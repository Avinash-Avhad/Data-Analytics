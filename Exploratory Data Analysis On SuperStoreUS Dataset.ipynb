{
 "cells": [
  {
   "cell_type": "markdown",
   "id": "0da4534f",
   "metadata": {},
   "source": [
    "# Project: Exploratory Data Analysis"
   ]
  },
  {
   "cell_type": "code",
   "execution_count": 2,
   "id": "c33d4d4d",
   "metadata": {},
   "outputs": [],
   "source": [
    "# I Perform Exploratory Data Analysis (EDA) On P6-SuperStore US Dataset.\n",
    "# While Performing Data Analysis Various Python Libraries Such As NUmpy  For Numerical Or Arithmatic Calculatiomn, \n",
    "# Pandas For Data Manupilation, And Matplotlib,Seaborn Use For Data Visualization.\n",
    "# In This Project I Extracted,Transform and Loaded (ETL) data on jupyter notebook \n",
    "# and perform univariate,bivariate  Data Analysis"
   ]
  },
  {
   "cell_type": "code",
   "execution_count": 3,
   "id": "f3eb0b3b",
   "metadata": {},
   "outputs": [
    {
     "name": "stderr",
     "output_type": "stream",
     "text": [
      "C:\\ProgramData\\Anaconda3\\lib\\site-packages\\scipy\\__init__.py:146: UserWarning: A NumPy version >=1.16.5 and <1.23.0 is required for this version of SciPy (detected version 1.26.4\n",
      "  warnings.warn(f\"A NumPy version >={np_minversion} and <{np_maxversion}\"\n"
     ]
    }
   ],
   "source": [
    "# Import Libraries\n",
    "\n",
    "import numpy as np\n",
    "import pandas as pd\n",
    "import matplotlib.pyplot as plt\n",
    "import seaborn as sns\n",
    "\n",
    "import warnings\n",
    "warnings.filterwarnings('ignore')"
   ]
  },
  {
   "cell_type": "code",
   "execution_count": 4,
   "id": "70082b61",
   "metadata": {},
   "outputs": [],
   "source": [
    "# Read Dataset\n",
    "df=pd.read_excel(\"P6-SuperStoreUS-2015 (1) (2).xlsx\")"
   ]
  },
  {
   "cell_type": "code",
   "execution_count": 5,
   "id": "a1e5ac93",
   "metadata": {},
   "outputs": [
    {
     "data": {
      "text/plain": [
       "(1952, 25)"
      ]
     },
     "execution_count": 5,
     "metadata": {},
     "output_type": "execute_result"
    }
   ],
   "source": [
    "df.shape"
   ]
  },
  {
   "cell_type": "code",
   "execution_count": 6,
   "id": "4cbda31f",
   "metadata": {},
   "outputs": [],
   "source": [
    "# Display first 5 rows.\n",
    "# Display last 5 Rows.\n",
    "# Display random 5 rows.\n",
    "# Display Column Names \n",
    "# Display Datatypes of all features."
   ]
  },
  {
   "cell_type": "code",
   "execution_count": 7,
   "id": "3f6fdde1",
   "metadata": {},
   "outputs": [
    {
     "data": {
      "text/html": [
       "<div>\n",
       "<style scoped>\n",
       "    .dataframe tbody tr th:only-of-type {\n",
       "        vertical-align: middle;\n",
       "    }\n",
       "\n",
       "    .dataframe tbody tr th {\n",
       "        vertical-align: top;\n",
       "    }\n",
       "\n",
       "    .dataframe thead th {\n",
       "        text-align: right;\n",
       "    }\n",
       "</style>\n",
       "<table border=\"1\" class=\"dataframe\">\n",
       "  <thead>\n",
       "    <tr style=\"text-align: right;\">\n",
       "      <th></th>\n",
       "      <th>Row ID</th>\n",
       "      <th>Order Priority</th>\n",
       "      <th>Discount</th>\n",
       "      <th>Unit Price</th>\n",
       "      <th>Shipping Cost</th>\n",
       "      <th>Customer ID</th>\n",
       "      <th>Customer Name</th>\n",
       "      <th>Ship Mode</th>\n",
       "      <th>Customer Segment</th>\n",
       "      <th>Product Category</th>\n",
       "      <th>...</th>\n",
       "      <th>Region</th>\n",
       "      <th>State or Province</th>\n",
       "      <th>City</th>\n",
       "      <th>Postal Code</th>\n",
       "      <th>Order Date</th>\n",
       "      <th>Ship Date</th>\n",
       "      <th>Profit</th>\n",
       "      <th>Quantity ordered new</th>\n",
       "      <th>Sales</th>\n",
       "      <th>Order ID</th>\n",
       "    </tr>\n",
       "  </thead>\n",
       "  <tbody>\n",
       "    <tr>\n",
       "      <th>0</th>\n",
       "      <td>20847</td>\n",
       "      <td>High</td>\n",
       "      <td>0.01</td>\n",
       "      <td>2.84</td>\n",
       "      <td>0.93</td>\n",
       "      <td>3</td>\n",
       "      <td>Bonnie Potter</td>\n",
       "      <td>Express Air</td>\n",
       "      <td>Corporate</td>\n",
       "      <td>Office Supplies</td>\n",
       "      <td>...</td>\n",
       "      <td>West</td>\n",
       "      <td>Washington</td>\n",
       "      <td>Anacortes</td>\n",
       "      <td>98221</td>\n",
       "      <td>2015-01-07</td>\n",
       "      <td>2015-01-08</td>\n",
       "      <td>4.5600</td>\n",
       "      <td>4</td>\n",
       "      <td>13.01</td>\n",
       "      <td>88522</td>\n",
       "    </tr>\n",
       "    <tr>\n",
       "      <th>1</th>\n",
       "      <td>20228</td>\n",
       "      <td>Not Specified</td>\n",
       "      <td>0.02</td>\n",
       "      <td>500.98</td>\n",
       "      <td>26.00</td>\n",
       "      <td>5</td>\n",
       "      <td>Ronnie Proctor</td>\n",
       "      <td>Delivery Truck</td>\n",
       "      <td>Home Office</td>\n",
       "      <td>Furniture</td>\n",
       "      <td>...</td>\n",
       "      <td>West</td>\n",
       "      <td>California</td>\n",
       "      <td>San Gabriel</td>\n",
       "      <td>91776</td>\n",
       "      <td>2015-06-13</td>\n",
       "      <td>2015-06-15</td>\n",
       "      <td>4390.3665</td>\n",
       "      <td>12</td>\n",
       "      <td>6362.85</td>\n",
       "      <td>90193</td>\n",
       "    </tr>\n",
       "    <tr>\n",
       "      <th>2</th>\n",
       "      <td>21776</td>\n",
       "      <td>Critical</td>\n",
       "      <td>0.06</td>\n",
       "      <td>9.48</td>\n",
       "      <td>7.29</td>\n",
       "      <td>11</td>\n",
       "      <td>Marcus Dunlap</td>\n",
       "      <td>Regular Air</td>\n",
       "      <td>Home Office</td>\n",
       "      <td>Furniture</td>\n",
       "      <td>...</td>\n",
       "      <td>East</td>\n",
       "      <td>New Jersey</td>\n",
       "      <td>Roselle</td>\n",
       "      <td>7203</td>\n",
       "      <td>2015-02-15</td>\n",
       "      <td>2015-02-17</td>\n",
       "      <td>-53.8096</td>\n",
       "      <td>22</td>\n",
       "      <td>211.15</td>\n",
       "      <td>90192</td>\n",
       "    </tr>\n",
       "    <tr>\n",
       "      <th>3</th>\n",
       "      <td>24844</td>\n",
       "      <td>Medium</td>\n",
       "      <td>0.09</td>\n",
       "      <td>78.69</td>\n",
       "      <td>19.99</td>\n",
       "      <td>14</td>\n",
       "      <td>Gwendolyn F Tyson</td>\n",
       "      <td>Regular Air</td>\n",
       "      <td>Small Business</td>\n",
       "      <td>Furniture</td>\n",
       "      <td>...</td>\n",
       "      <td>Central</td>\n",
       "      <td>Minnesota</td>\n",
       "      <td>Prior Lake</td>\n",
       "      <td>55372</td>\n",
       "      <td>2015-05-12</td>\n",
       "      <td>2015-05-14</td>\n",
       "      <td>803.4705</td>\n",
       "      <td>16</td>\n",
       "      <td>1164.45</td>\n",
       "      <td>86838</td>\n",
       "    </tr>\n",
       "    <tr>\n",
       "      <th>4</th>\n",
       "      <td>24846</td>\n",
       "      <td>Medium</td>\n",
       "      <td>0.08</td>\n",
       "      <td>3.28</td>\n",
       "      <td>2.31</td>\n",
       "      <td>14</td>\n",
       "      <td>Gwendolyn F Tyson</td>\n",
       "      <td>Regular Air</td>\n",
       "      <td>Small Business</td>\n",
       "      <td>Office Supplies</td>\n",
       "      <td>...</td>\n",
       "      <td>Central</td>\n",
       "      <td>Minnesota</td>\n",
       "      <td>Prior Lake</td>\n",
       "      <td>55372</td>\n",
       "      <td>2015-05-12</td>\n",
       "      <td>2015-05-13</td>\n",
       "      <td>-24.0300</td>\n",
       "      <td>7</td>\n",
       "      <td>22.23</td>\n",
       "      <td>86838</td>\n",
       "    </tr>\n",
       "  </tbody>\n",
       "</table>\n",
       "<p>5 rows × 25 columns</p>\n",
       "</div>"
      ],
      "text/plain": [
       "   Row ID Order Priority  Discount  Unit Price  Shipping Cost  Customer ID  \\\n",
       "0   20847           High      0.01        2.84           0.93            3   \n",
       "1   20228  Not Specified      0.02      500.98          26.00            5   \n",
       "2   21776       Critical      0.06        9.48           7.29           11   \n",
       "3   24844         Medium      0.09       78.69          19.99           14   \n",
       "4   24846         Medium      0.08        3.28           2.31           14   \n",
       "\n",
       "       Customer Name       Ship Mode Customer Segment Product Category  ...  \\\n",
       "0      Bonnie Potter     Express Air        Corporate  Office Supplies  ...   \n",
       "1     Ronnie Proctor  Delivery Truck      Home Office        Furniture  ...   \n",
       "2      Marcus Dunlap     Regular Air      Home Office        Furniture  ...   \n",
       "3  Gwendolyn F Tyson     Regular Air   Small Business        Furniture  ...   \n",
       "4  Gwendolyn F Tyson     Regular Air   Small Business  Office Supplies  ...   \n",
       "\n",
       "    Region State or Province         City  Postal Code Order Date  Ship Date  \\\n",
       "0     West        Washington    Anacortes        98221 2015-01-07 2015-01-08   \n",
       "1     West        California  San Gabriel        91776 2015-06-13 2015-06-15   \n",
       "2     East        New Jersey      Roselle         7203 2015-02-15 2015-02-17   \n",
       "3  Central         Minnesota   Prior Lake        55372 2015-05-12 2015-05-14   \n",
       "4  Central         Minnesota   Prior Lake        55372 2015-05-12 2015-05-13   \n",
       "\n",
       "      Profit Quantity ordered new    Sales Order ID  \n",
       "0     4.5600                    4    13.01    88522  \n",
       "1  4390.3665                   12  6362.85    90193  \n",
       "2   -53.8096                   22   211.15    90192  \n",
       "3   803.4705                   16  1164.45    86838  \n",
       "4   -24.0300                    7    22.23    86838  \n",
       "\n",
       "[5 rows x 25 columns]"
      ]
     },
     "execution_count": 7,
     "metadata": {},
     "output_type": "execute_result"
    }
   ],
   "source": [
    "# Display first 5 rows.\n",
    "df.head(5)"
   ]
  },
  {
   "cell_type": "code",
   "execution_count": 8,
   "id": "0f1e151b",
   "metadata": {},
   "outputs": [
    {
     "data": {
      "text/html": [
       "<div>\n",
       "<style scoped>\n",
       "    .dataframe tbody tr th:only-of-type {\n",
       "        vertical-align: middle;\n",
       "    }\n",
       "\n",
       "    .dataframe tbody tr th {\n",
       "        vertical-align: top;\n",
       "    }\n",
       "\n",
       "    .dataframe thead th {\n",
       "        text-align: right;\n",
       "    }\n",
       "</style>\n",
       "<table border=\"1\" class=\"dataframe\">\n",
       "  <thead>\n",
       "    <tr style=\"text-align: right;\">\n",
       "      <th></th>\n",
       "      <th>Row ID</th>\n",
       "      <th>Order Priority</th>\n",
       "      <th>Discount</th>\n",
       "      <th>Unit Price</th>\n",
       "      <th>Shipping Cost</th>\n",
       "      <th>Customer ID</th>\n",
       "      <th>Customer Name</th>\n",
       "      <th>Ship Mode</th>\n",
       "      <th>Customer Segment</th>\n",
       "      <th>Product Category</th>\n",
       "      <th>...</th>\n",
       "      <th>Region</th>\n",
       "      <th>State or Province</th>\n",
       "      <th>City</th>\n",
       "      <th>Postal Code</th>\n",
       "      <th>Order Date</th>\n",
       "      <th>Ship Date</th>\n",
       "      <th>Profit</th>\n",
       "      <th>Quantity ordered new</th>\n",
       "      <th>Sales</th>\n",
       "      <th>Order ID</th>\n",
       "    </tr>\n",
       "  </thead>\n",
       "  <tbody>\n",
       "    <tr>\n",
       "      <th>1947</th>\n",
       "      <td>19842</td>\n",
       "      <td>High</td>\n",
       "      <td>0.01</td>\n",
       "      <td>10.90</td>\n",
       "      <td>7.46</td>\n",
       "      <td>3397</td>\n",
       "      <td>Andrea Shaw</td>\n",
       "      <td>Regular Air</td>\n",
       "      <td>Small Business</td>\n",
       "      <td>Office Supplies</td>\n",
       "      <td>...</td>\n",
       "      <td>Central</td>\n",
       "      <td>Illinois</td>\n",
       "      <td>Danville</td>\n",
       "      <td>61832</td>\n",
       "      <td>2015-03-11</td>\n",
       "      <td>2015-03-12</td>\n",
       "      <td>-116.7600</td>\n",
       "      <td>18</td>\n",
       "      <td>207.31</td>\n",
       "      <td>87536</td>\n",
       "    </tr>\n",
       "    <tr>\n",
       "      <th>1948</th>\n",
       "      <td>19843</td>\n",
       "      <td>High</td>\n",
       "      <td>0.10</td>\n",
       "      <td>7.99</td>\n",
       "      <td>5.03</td>\n",
       "      <td>3397</td>\n",
       "      <td>Andrea Shaw</td>\n",
       "      <td>Regular Air</td>\n",
       "      <td>Small Business</td>\n",
       "      <td>Technology</td>\n",
       "      <td>...</td>\n",
       "      <td>Central</td>\n",
       "      <td>Illinois</td>\n",
       "      <td>Danville</td>\n",
       "      <td>61832</td>\n",
       "      <td>2015-03-11</td>\n",
       "      <td>2015-03-12</td>\n",
       "      <td>-160.9520</td>\n",
       "      <td>22</td>\n",
       "      <td>143.12</td>\n",
       "      <td>87536</td>\n",
       "    </tr>\n",
       "    <tr>\n",
       "      <th>1949</th>\n",
       "      <td>26208</td>\n",
       "      <td>Not Specified</td>\n",
       "      <td>0.08</td>\n",
       "      <td>11.97</td>\n",
       "      <td>5.81</td>\n",
       "      <td>3399</td>\n",
       "      <td>Marvin Reid</td>\n",
       "      <td>Regular Air</td>\n",
       "      <td>Small Business</td>\n",
       "      <td>Office Supplies</td>\n",
       "      <td>...</td>\n",
       "      <td>Central</td>\n",
       "      <td>Illinois</td>\n",
       "      <td>Des Plaines</td>\n",
       "      <td>60016</td>\n",
       "      <td>2015-03-29</td>\n",
       "      <td>2015-03-31</td>\n",
       "      <td>-41.8700</td>\n",
       "      <td>5</td>\n",
       "      <td>59.98</td>\n",
       "      <td>87534</td>\n",
       "    </tr>\n",
       "    <tr>\n",
       "      <th>1950</th>\n",
       "      <td>24911</td>\n",
       "      <td>Medium</td>\n",
       "      <td>0.10</td>\n",
       "      <td>9.38</td>\n",
       "      <td>4.93</td>\n",
       "      <td>3400</td>\n",
       "      <td>Florence Gold</td>\n",
       "      <td>Express Air</td>\n",
       "      <td>Small Business</td>\n",
       "      <td>Furniture</td>\n",
       "      <td>...</td>\n",
       "      <td>East</td>\n",
       "      <td>West Virginia</td>\n",
       "      <td>Fairmont</td>\n",
       "      <td>26554</td>\n",
       "      <td>2015-04-04</td>\n",
       "      <td>2015-04-04</td>\n",
       "      <td>-24.7104</td>\n",
       "      <td>15</td>\n",
       "      <td>135.78</td>\n",
       "      <td>87537</td>\n",
       "    </tr>\n",
       "    <tr>\n",
       "      <th>1951</th>\n",
       "      <td>25914</td>\n",
       "      <td>High</td>\n",
       "      <td>0.10</td>\n",
       "      <td>105.98</td>\n",
       "      <td>13.99</td>\n",
       "      <td>3403</td>\n",
       "      <td>Tammy Buckley</td>\n",
       "      <td>Express Air</td>\n",
       "      <td>Consumer</td>\n",
       "      <td>Furniture</td>\n",
       "      <td>...</td>\n",
       "      <td>West</td>\n",
       "      <td>Wyoming</td>\n",
       "      <td>Cheyenne</td>\n",
       "      <td>82001</td>\n",
       "      <td>2015-02-08</td>\n",
       "      <td>2015-02-11</td>\n",
       "      <td>349.4850</td>\n",
       "      <td>5</td>\n",
       "      <td>506.50</td>\n",
       "      <td>87530</td>\n",
       "    </tr>\n",
       "  </tbody>\n",
       "</table>\n",
       "<p>5 rows × 25 columns</p>\n",
       "</div>"
      ],
      "text/plain": [
       "      Row ID Order Priority  Discount  Unit Price  Shipping Cost  Customer ID  \\\n",
       "1947   19842           High      0.01       10.90           7.46         3397   \n",
       "1948   19843           High      0.10        7.99           5.03         3397   \n",
       "1949   26208  Not Specified      0.08       11.97           5.81         3399   \n",
       "1950   24911         Medium      0.10        9.38           4.93         3400   \n",
       "1951   25914           High      0.10      105.98          13.99         3403   \n",
       "\n",
       "      Customer Name    Ship Mode Customer Segment Product Category  ...  \\\n",
       "1947    Andrea Shaw  Regular Air   Small Business  Office Supplies  ...   \n",
       "1948    Andrea Shaw  Regular Air   Small Business       Technology  ...   \n",
       "1949    Marvin Reid  Regular Air   Small Business  Office Supplies  ...   \n",
       "1950  Florence Gold  Express Air   Small Business        Furniture  ...   \n",
       "1951  Tammy Buckley  Express Air         Consumer        Furniture  ...   \n",
       "\n",
       "       Region State or Province         City  Postal Code Order Date  \\\n",
       "1947  Central          Illinois     Danville        61832 2015-03-11   \n",
       "1948  Central          Illinois     Danville        61832 2015-03-11   \n",
       "1949  Central          Illinois  Des Plaines        60016 2015-03-29   \n",
       "1950     East     West Virginia     Fairmont        26554 2015-04-04   \n",
       "1951     West           Wyoming     Cheyenne        82001 2015-02-08   \n",
       "\n",
       "      Ship Date    Profit Quantity ordered new   Sales Order ID  \n",
       "1947 2015-03-12 -116.7600                   18  207.31    87536  \n",
       "1948 2015-03-12 -160.9520                   22  143.12    87536  \n",
       "1949 2015-03-31  -41.8700                    5   59.98    87534  \n",
       "1950 2015-04-04  -24.7104                   15  135.78    87537  \n",
       "1951 2015-02-11  349.4850                    5  506.50    87530  \n",
       "\n",
       "[5 rows x 25 columns]"
      ]
     },
     "execution_count": 8,
     "metadata": {},
     "output_type": "execute_result"
    }
   ],
   "source": [
    "# Display last 5 Rows.\n",
    "df.tail(5)"
   ]
  },
  {
   "cell_type": "code",
   "execution_count": 9,
   "id": "85e939ca",
   "metadata": {},
   "outputs": [
    {
     "data": {
      "text/html": [
       "<div>\n",
       "<style scoped>\n",
       "    .dataframe tbody tr th:only-of-type {\n",
       "        vertical-align: middle;\n",
       "    }\n",
       "\n",
       "    .dataframe tbody tr th {\n",
       "        vertical-align: top;\n",
       "    }\n",
       "\n",
       "    .dataframe thead th {\n",
       "        text-align: right;\n",
       "    }\n",
       "</style>\n",
       "<table border=\"1\" class=\"dataframe\">\n",
       "  <thead>\n",
       "    <tr style=\"text-align: right;\">\n",
       "      <th></th>\n",
       "      <th>Row ID</th>\n",
       "      <th>Order Priority</th>\n",
       "      <th>Discount</th>\n",
       "      <th>Unit Price</th>\n",
       "      <th>Shipping Cost</th>\n",
       "      <th>Customer ID</th>\n",
       "      <th>Customer Name</th>\n",
       "      <th>Ship Mode</th>\n",
       "      <th>Customer Segment</th>\n",
       "      <th>Product Category</th>\n",
       "      <th>...</th>\n",
       "      <th>Region</th>\n",
       "      <th>State or Province</th>\n",
       "      <th>City</th>\n",
       "      <th>Postal Code</th>\n",
       "      <th>Order Date</th>\n",
       "      <th>Ship Date</th>\n",
       "      <th>Profit</th>\n",
       "      <th>Quantity ordered new</th>\n",
       "      <th>Sales</th>\n",
       "      <th>Order ID</th>\n",
       "    </tr>\n",
       "  </thead>\n",
       "  <tbody>\n",
       "    <tr>\n",
       "      <th>1368</th>\n",
       "      <td>25536</td>\n",
       "      <td>High</td>\n",
       "      <td>0.07</td>\n",
       "      <td>179.99</td>\n",
       "      <td>19.99</td>\n",
       "      <td>2456</td>\n",
       "      <td>Joan Beach</td>\n",
       "      <td>Regular Air</td>\n",
       "      <td>Home Office</td>\n",
       "      <td>Technology</td>\n",
       "      <td>...</td>\n",
       "      <td>South</td>\n",
       "      <td>Alabama</td>\n",
       "      <td>Mobile</td>\n",
       "      <td>36608</td>\n",
       "      <td>2015-01-22</td>\n",
       "      <td>2015-01-23</td>\n",
       "      <td>733.282200</td>\n",
       "      <td>7</td>\n",
       "      <td>1188.63</td>\n",
       "      <td>89218</td>\n",
       "    </tr>\n",
       "    <tr>\n",
       "      <th>1563</th>\n",
       "      <td>21707</td>\n",
       "      <td>Critical</td>\n",
       "      <td>0.01</td>\n",
       "      <td>35.99</td>\n",
       "      <td>5.99</td>\n",
       "      <td>2779</td>\n",
       "      <td>Jacob Burgess</td>\n",
       "      <td>Regular Air</td>\n",
       "      <td>Corporate</td>\n",
       "      <td>Technology</td>\n",
       "      <td>...</td>\n",
       "      <td>South</td>\n",
       "      <td>North Carolina</td>\n",
       "      <td>Wilson</td>\n",
       "      <td>27893</td>\n",
       "      <td>2015-06-11</td>\n",
       "      <td>2015-06-12</td>\n",
       "      <td>-60.704000</td>\n",
       "      <td>11</td>\n",
       "      <td>345.07</td>\n",
       "      <td>87161</td>\n",
       "    </tr>\n",
       "    <tr>\n",
       "      <th>316</th>\n",
       "      <td>19782</td>\n",
       "      <td>Critical</td>\n",
       "      <td>0.01</td>\n",
       "      <td>1.68</td>\n",
       "      <td>1.57</td>\n",
       "      <td>593</td>\n",
       "      <td>Joel Huffman</td>\n",
       "      <td>Regular Air</td>\n",
       "      <td>Small Business</td>\n",
       "      <td>Office Supplies</td>\n",
       "      <td>...</td>\n",
       "      <td>Central</td>\n",
       "      <td>Illinois</td>\n",
       "      <td>Woodridge</td>\n",
       "      <td>60517</td>\n",
       "      <td>2015-01-17</td>\n",
       "      <td>2015-01-19</td>\n",
       "      <td>-53.444000</td>\n",
       "      <td>12</td>\n",
       "      <td>20.37</td>\n",
       "      <td>86307</td>\n",
       "    </tr>\n",
       "    <tr>\n",
       "      <th>1189</th>\n",
       "      <td>22555</td>\n",
       "      <td>Not Specified</td>\n",
       "      <td>0.08</td>\n",
       "      <td>243.98</td>\n",
       "      <td>43.32</td>\n",
       "      <td>2151</td>\n",
       "      <td>Melinda Rogers</td>\n",
       "      <td>Delivery Truck</td>\n",
       "      <td>Corporate</td>\n",
       "      <td>Furniture</td>\n",
       "      <td>...</td>\n",
       "      <td>Central</td>\n",
       "      <td>Iowa</td>\n",
       "      <td>Dubuque</td>\n",
       "      <td>52001</td>\n",
       "      <td>2015-01-05</td>\n",
       "      <td>2015-01-06</td>\n",
       "      <td>-162.824400</td>\n",
       "      <td>1</td>\n",
       "      <td>248.84</td>\n",
       "      <td>90404</td>\n",
       "    </tr>\n",
       "    <tr>\n",
       "      <th>1197</th>\n",
       "      <td>23773</td>\n",
       "      <td>Medium</td>\n",
       "      <td>0.09</td>\n",
       "      <td>159.31</td>\n",
       "      <td>60.00</td>\n",
       "      <td>2162</td>\n",
       "      <td>Brenda Jain</td>\n",
       "      <td>Delivery Truck</td>\n",
       "      <td>Corporate</td>\n",
       "      <td>Furniture</td>\n",
       "      <td>...</td>\n",
       "      <td>East</td>\n",
       "      <td>Pennsylvania</td>\n",
       "      <td>Sharon</td>\n",
       "      <td>16146</td>\n",
       "      <td>2015-05-20</td>\n",
       "      <td>2015-05-22</td>\n",
       "      <td>77.000895</td>\n",
       "      <td>41</td>\n",
       "      <td>6173.42</td>\n",
       "      <td>90387</td>\n",
       "    </tr>\n",
       "  </tbody>\n",
       "</table>\n",
       "<p>5 rows × 25 columns</p>\n",
       "</div>"
      ],
      "text/plain": [
       "      Row ID Order Priority  Discount  Unit Price  Shipping Cost  Customer ID  \\\n",
       "1368   25536           High      0.07      179.99          19.99         2456   \n",
       "1563   21707       Critical      0.01       35.99           5.99         2779   \n",
       "316    19782       Critical      0.01        1.68           1.57          593   \n",
       "1189   22555  Not Specified      0.08      243.98          43.32         2151   \n",
       "1197   23773         Medium      0.09      159.31          60.00         2162   \n",
       "\n",
       "       Customer Name       Ship Mode Customer Segment Product Category  ...  \\\n",
       "1368      Joan Beach     Regular Air      Home Office       Technology  ...   \n",
       "1563   Jacob Burgess     Regular Air        Corporate       Technology  ...   \n",
       "316     Joel Huffman     Regular Air   Small Business  Office Supplies  ...   \n",
       "1189  Melinda Rogers  Delivery Truck        Corporate        Furniture  ...   \n",
       "1197     Brenda Jain  Delivery Truck        Corporate        Furniture  ...   \n",
       "\n",
       "       Region State or Province       City  Postal Code Order Date  Ship Date  \\\n",
       "1368    South           Alabama     Mobile        36608 2015-01-22 2015-01-23   \n",
       "1563    South    North Carolina     Wilson        27893 2015-06-11 2015-06-12   \n",
       "316   Central          Illinois  Woodridge        60517 2015-01-17 2015-01-19   \n",
       "1189  Central              Iowa    Dubuque        52001 2015-01-05 2015-01-06   \n",
       "1197     East      Pennsylvania     Sharon        16146 2015-05-20 2015-05-22   \n",
       "\n",
       "          Profit Quantity ordered new    Sales Order ID  \n",
       "1368  733.282200                    7  1188.63    89218  \n",
       "1563  -60.704000                   11   345.07    87161  \n",
       "316   -53.444000                   12    20.37    86307  \n",
       "1189 -162.824400                    1   248.84    90404  \n",
       "1197   77.000895                   41  6173.42    90387  \n",
       "\n",
       "[5 rows x 25 columns]"
      ]
     },
     "execution_count": 9,
     "metadata": {},
     "output_type": "execute_result"
    }
   ],
   "source": [
    "# Display random 5 rows.\n",
    "df.sample(5)"
   ]
  },
  {
   "cell_type": "code",
   "execution_count": 10,
   "id": "094daad1",
   "metadata": {},
   "outputs": [
    {
     "data": {
      "text/plain": [
       "Index(['Row ID', 'Order Priority', 'Discount', 'Unit Price', 'Shipping Cost',\n",
       "       'Customer ID', 'Customer Name', 'Ship Mode', 'Customer Segment',\n",
       "       'Product Category', 'Product Sub-Category', 'Product Container',\n",
       "       'Product Name', 'Product Base Margin', 'Country', 'Region',\n",
       "       'State or Province', 'City', 'Postal Code', 'Order Date', 'Ship Date',\n",
       "       'Profit', 'Quantity ordered new', 'Sales', 'Order ID'],\n",
       "      dtype='object')"
      ]
     },
     "execution_count": 10,
     "metadata": {},
     "output_type": "execute_result"
    }
   ],
   "source": [
    "# Display Column Names \n",
    "df.columns"
   ]
  },
  {
   "cell_type": "code",
   "execution_count": 11,
   "id": "9e065f26",
   "metadata": {},
   "outputs": [
    {
     "data": {
      "text/plain": [
       "Row ID                           int64\n",
       "Order Priority                  object\n",
       "Discount                       float64\n",
       "Unit Price                     float64\n",
       "Shipping Cost                  float64\n",
       "Customer ID                      int64\n",
       "Customer Name                   object\n",
       "Ship Mode                       object\n",
       "Customer Segment                object\n",
       "Product Category                object\n",
       "Product Sub-Category            object\n",
       "Product Container               object\n",
       "Product Name                    object\n",
       "Product Base Margin            float64\n",
       "Country                         object\n",
       "Region                          object\n",
       "State or Province               object\n",
       "City                            object\n",
       "Postal Code                      int64\n",
       "Order Date              datetime64[ns]\n",
       "Ship Date               datetime64[ns]\n",
       "Profit                         float64\n",
       "Quantity ordered new             int64\n",
       "Sales                          float64\n",
       "Order ID                         int64\n",
       "dtype: object"
      ]
     },
     "execution_count": 11,
     "metadata": {},
     "output_type": "execute_result"
    }
   ],
   "source": [
    "# Display Datatypes of all features.\n",
    "df.dtypes"
   ]
  },
  {
   "cell_type": "code",
   "execution_count": 12,
   "id": "6ed02a1b",
   "metadata": {},
   "outputs": [
    {
     "data": {
      "text/plain": [
       "1951"
      ]
     },
     "execution_count": 12,
     "metadata": {},
     "output_type": "execute_result"
    }
   ],
   "source": [
    "# Identify number Of Unique Values In Each Feature.\n",
    "len(set(df['Row ID']))"
   ]
  },
  {
   "cell_type": "code",
   "execution_count": 13,
   "id": "f4ef0ee3",
   "metadata": {},
   "outputs": [
    {
     "data": {
      "text/plain": [
       "1951"
      ]
     },
     "execution_count": 13,
     "metadata": {},
     "output_type": "execute_result"
    }
   ],
   "source": [
    "df['Row ID'].nunique()"
   ]
  },
  {
   "cell_type": "code",
   "execution_count": 14,
   "id": "7203bd5d",
   "metadata": {},
   "outputs": [
    {
     "name": "stdout",
     "output_type": "stream",
     "text": [
      "Row ID \t  1951\n",
      "Order Priority \t  6\n",
      "Discount \t  13\n",
      "Unit Price \t  597\n",
      "Shipping Cost \t  497\n",
      "Customer ID \t  1130\n",
      "Customer Name \t  1130\n",
      "Ship Mode \t  3\n",
      "Customer Segment \t  4\n",
      "Product Category \t  3\n",
      "Product Sub-Category \t  17\n",
      "Product Container \t  7\n",
      "Product Name \t  913\n",
      "Product Base Margin \t  51\n",
      "Country \t  1\n",
      "Region \t  4\n",
      "State or Province \t  49\n",
      "City \t  869\n",
      "Postal Code \t  981\n",
      "Order Date \t  179\n",
      "Ship Date \t  187\n",
      "Profit \t  1898\n",
      "Quantity ordered new \t  76\n",
      "Sales \t  1922\n",
      "Order ID \t  1365\n"
     ]
    }
   ],
   "source": [
    "for i in df.columns:\n",
    "    print(i,\"\\t \",df[i].nunique())"
   ]
  },
  {
   "cell_type": "code",
   "execution_count": 15,
   "id": "73bc755f",
   "metadata": {},
   "outputs": [
    {
     "name": "stdout",
     "output_type": "stream",
     "text": [
      "Continuous :  ['Row ID', 'Unit Price', 'Shipping Cost', 'Customer ID', 'Customer Name', 'Product Name', 'Product Base Margin', 'City', 'Postal Code', 'Order Date', 'Ship Date', 'Profit', 'Quantity ordered new', 'Sales', 'Order ID']\n",
      "\n",
      " Categorical :  ['Order Priority', 'Discount', 'Ship Mode', 'Customer Segment', 'Product Category', 'Product Sub-Category', 'Product Container', 'Country', 'Region', 'State or Province']\n"
     ]
    }
   ],
   "source": [
    "# To Clacify Feature Into 1. Catagorical 2. Continuous   Threshold=50\n",
    "\n",
    "cat=[]\n",
    "cont=[]\n",
    "\n",
    "for i in df.columns:\n",
    "    if df[i].nunique()>=50:    # Condition of Continuous Feature\n",
    "        cont.append(i)\n",
    "    else:\n",
    "        cat.append(i)\n",
    "    \n",
    "print(\"Continuous : \",cont)\n",
    "print(\"\\n Categorical : \",cat)\n"
   ]
  },
  {
   "cell_type": "code",
   "execution_count": 16,
   "id": "d7b0d41e",
   "metadata": {},
   "outputs": [
    {
     "data": {
      "text/plain": [
       "Row ID                           int64\n",
       "Unit Price                     float64\n",
       "Shipping Cost                  float64\n",
       "Customer ID                      int64\n",
       "Customer Name                   object\n",
       "Product Name                    object\n",
       "Product Base Margin            float64\n",
       "City                            object\n",
       "Postal Code                      int64\n",
       "Order Date              datetime64[ns]\n",
       "Ship Date               datetime64[ns]\n",
       "Profit                         float64\n",
       "Quantity ordered new             int64\n",
       "Sales                          float64\n",
       "Order ID                         int64\n",
       "dtype: object"
      ]
     },
     "execution_count": 16,
     "metadata": {},
     "output_type": "execute_result"
    }
   ],
   "source": [
    "# Numerical fearure From Continuous Data.\n",
    "df[cont].dtypes\n"
   ]
  },
  {
   "cell_type": "code",
   "execution_count": 17,
   "id": "32b02a77",
   "metadata": {},
   "outputs": [
    {
     "name": "stdout",
     "output_type": "stream",
     "text": [
      "Order Priority \n",
      " ['High' 'Not Specified' 'Critical' 'Medium' 'Low' 'Critical '] \n",
      "\n",
      "Discount \n",
      " [0.01 0.02 0.06 0.09 0.08 0.05 0.   0.04 0.07 0.03 0.1  0.17 0.21] \n",
      "\n",
      "Ship Mode \n",
      " ['Express Air' 'Delivery Truck' 'Regular Air'] \n",
      "\n",
      "Customer Segment \n",
      " ['Corporate' 'Home Office' 'Small Business' 'Consumer'] \n",
      "\n",
      "Product Category \n",
      " ['Office Supplies' 'Furniture' 'Technology'] \n",
      "\n",
      "Product Sub-Category \n",
      " ['Pens & Art Supplies' 'Chairs & Chairmats' 'Office Furnishings'\n",
      " 'Rubber Bands' 'Envelopes' 'Telephones and Communication'\n",
      " 'Office Machines' 'Paper' 'Binders and Binder Accessories' 'Labels'\n",
      " 'Storage & Organization' 'Tables' 'Scissors, Rulers and Trimmers'\n",
      " 'Computer Peripherals' 'Bookcases' 'Appliances' 'Copiers and Fax'] \n",
      "\n",
      "Product Container \n",
      " ['Wrap Bag' 'Jumbo Drum' 'Small Pack' 'Small Box' 'Medium Box' 'Jumbo Box'\n",
      " 'Large Box'] \n",
      "\n",
      "Country \n",
      " ['United States'] \n",
      "\n",
      "Region \n",
      " ['West' 'East' 'Central' 'South'] \n",
      "\n",
      "State or Province \n",
      " ['Washington' 'California' 'New Jersey' 'Minnesota' 'New York' 'Montana'\n",
      " 'Oregon' 'Texas' 'Virginia' 'Vermont' 'Ohio' 'Louisiana' 'Illinois'\n",
      " 'Kansas' 'Maine' 'Massachusetts' 'New Hampshire' 'Utah' 'Connecticut'\n",
      " 'Pennsylvania' 'Tennessee' 'Colorado' 'Michigan' 'Oklahoma'\n",
      " 'North Carolina' 'Iowa' 'Florida' 'New Mexico' 'Arizona' 'Georgia'\n",
      " 'Maryland' 'Rhode Island' 'Nebraska' 'Missouri' 'Nevada' 'Kentucky'\n",
      " 'West Virginia' 'Mississippi' 'Indiana' 'South Carolina' 'Arkansas'\n",
      " 'District of Columbia' 'Delaware' 'Alabama' 'Idaho' 'Wisconsin'\n",
      " 'South Dakota' 'Wyoming' 'North Dakota'] \n",
      "\n"
     ]
    }
   ],
   "source": [
    "# Identify unique Values from all categorical feature.   unique()\n",
    "\n",
    "for i in df[cat]:\n",
    "    print(i,'\\n',df[i].unique(),\"\\n\")\n"
   ]
  },
  {
   "cell_type": "markdown",
   "id": "607a0580",
   "metadata": {},
   "source": [
    "# univariate Analysis :\n"
   ]
  },
  {
   "cell_type": "code",
   "execution_count": 18,
   "id": "085c1f34",
   "metadata": {},
   "outputs": [],
   "source": [
    "# 1. Order Priority "
   ]
  },
  {
   "cell_type": "code",
   "execution_count": 19,
   "id": "1dfedade",
   "metadata": {},
   "outputs": [],
   "source": [
    "# 1. Identify unique Values\n",
    "# 2. Identifyn count of each class.\n",
    "# 3. remove errors if any.\n",
    "# 4. Display count Of Class In percentages.\n",
    "# 5. Visualize count."
   ]
  },
  {
   "cell_type": "code",
   "execution_count": 20,
   "id": "30fa1196",
   "metadata": {},
   "outputs": [
    {
     "data": {
      "text/plain": [
       "array(['High', 'Not Specified', 'Critical', 'Medium', 'Low', 'Critical '],\n",
       "      dtype=object)"
      ]
     },
     "execution_count": 20,
     "metadata": {},
     "output_type": "execute_result"
    }
   ],
   "source": [
    "# 1. Identify unique Values\n",
    "df['Order Priority'].unique()"
   ]
  },
  {
   "cell_type": "code",
   "execution_count": 21,
   "id": "c6e84c5b",
   "metadata": {},
   "outputs": [
    {
     "data": {
      "text/plain": [
       "Low              398\n",
       "Not Specified    396\n",
       "High             391\n",
       "Critical         390\n",
       "Medium           376\n",
       "Critical           1\n",
       "Name: Order Priority, dtype: int64"
      ]
     },
     "execution_count": 21,
     "metadata": {},
     "output_type": "execute_result"
    }
   ],
   "source": [
    "# 2. Identifyn count of each class.\n",
    "df['Order Priority'].value_counts()"
   ]
  },
  {
   "cell_type": "code",
   "execution_count": 22,
   "id": "79162e74",
   "metadata": {},
   "outputs": [],
   "source": [
    "# List Comprehention\n",
    "df['Order Priority']=['Critical'            if i== 'Critical ' else i   for i in df['Order Priority']]"
   ]
  },
  {
   "cell_type": "code",
   "execution_count": 23,
   "id": "b217db53",
   "metadata": {},
   "outputs": [
    {
     "data": {
      "text/plain": [
       "<AxesSubplot:>"
      ]
     },
     "execution_count": 23,
     "metadata": {},
     "output_type": "execute_result"
    },
    {
     "data": {
      "image/png": "[encoded data removed]",
      "text/plain": [
       "<Figure size 432x288 with 1 Axes>"
      ]
     },
     "metadata": {
      "needs_background": "light"
     },
     "output_type": "display_data"
    }
   ],
   "source": [
    "# Visualize\n",
    "df['Order Priority'].value_counts().plot.bar()"
   ]
  },
  {
   "cell_type": "code",
   "execution_count": 24,
   "id": "5ab9dfcf",
   "metadata": {},
   "outputs": [
    {
     "data": {
      "text/plain": [
       "Low              398\n",
       "Not Specified    396\n",
       "High             391\n",
       "Critical         391\n",
       "Medium           376\n",
       "Name: Order Priority, dtype: int64"
      ]
     },
     "execution_count": 24,
     "metadata": {},
     "output_type": "execute_result"
    }
   ],
   "source": [
    "df['Order Priority'].value_counts()"
   ]
  },
  {
   "cell_type": "code",
   "execution_count": 25,
   "id": "0eca8ce6",
   "metadata": {},
   "outputs": [
    {
     "data": {
      "text/plain": [
       "Low              20.39\n",
       "Not Specified    20.29\n",
       "High             20.03\n",
       "Critical         20.03\n",
       "Medium           19.26\n",
       "Name: Order Priority, dtype: float64"
      ]
     },
     "execution_count": 25,
     "metadata": {},
     "output_type": "execute_result"
    }
   ],
   "source": [
    "# 4. Display count Of Class In percentages.\n",
    "np.round(df['Order Priority'].value_counts()/df.shape[0]*100,2)"
   ]
  },
  {
   "cell_type": "code",
   "execution_count": 26,
   "id": "34412e93",
   "metadata": {},
   "outputs": [
    {
     "data": {
      "text/plain": [
       "<AxesSubplot:ylabel='Order Priority'>"
      ]
     },
     "execution_count": 26,
     "metadata": {},
     "output_type": "execute_result"
    },
    {
     "data": {
      "image/png": "[encoded data removed]",
      "text/plain": [
       "<Figure size 432x288 with 1 Axes>"
      ]
     },
     "metadata": {},
     "output_type": "display_data"
    }
   ],
   "source": [
    "#Visualize percentages\n",
    "np.round(df['Order Priority'].value_counts()/df.shape[0]*100,2).plot.pie()"
   ]
  },
  {
   "cell_type": "code",
   "execution_count": 27,
   "id": "6115b461",
   "metadata": {},
   "outputs": [
    {
     "data": {
      "image/png": "[encoded data removed]",
      "text/plain": [
       "<Figure size 432x288 with 1 Axes>"
      ]
     },
     "metadata": {},
     "output_type": "display_data"
    }
   ],
   "source": [
    "plt.pie(np.round(df['Order Priority'].value_counts()/df.shape[0]*100,2),labels=df['Order Priority'].unique(),\n",
    "        colors=['red','blue','green','violet','pink'])\n",
    "plt.show()"
   ]
  },
  {
   "cell_type": "code",
   "execution_count": 28,
   "id": "d15b69d3",
   "metadata": {},
   "outputs": [
    {
     "data": {
      "image/png": "[encoded data removed]",
      "text/plain": [
       "<Figure size 576x576 with 1 Axes>"
      ]
     },
     "metadata": {},
     "output_type": "display_data"
    }
   ],
   "source": [
    "percentages = np.round(df['Order Priority'].value_counts() / df.shape[0] * 100, 2)\n",
    "\n",
    "# Plotting the pie chart\n",
    "plt.figure(figsize=(8, 8))\n",
    "plt.pie(percentages, labels=percentages.index, autopct='%1.2f%%', startangle=90, colors=['red','blue','green','violet','pink'])\n",
    "\n",
    "# Equal aspect ratio ensures that pie is drawn as a circle\n",
    "plt.axis('equal')\n",
    "plt.title('Order Priority Distribution')\n",
    "plt.show()"
   ]
  },
  {
   "cell_type": "code",
   "execution_count": 29,
   "id": "b882cb92",
   "metadata": {},
   "outputs": [],
   "source": [
    "# Ship Mode"
   ]
  },
  {
   "cell_type": "code",
   "execution_count": 30,
   "id": "b9d716e2",
   "metadata": {},
   "outputs": [
    {
     "data": {
      "text/plain": [
       "['Order Priority',\n",
       " 'Discount',\n",
       " 'Ship Mode',\n",
       " 'Customer Segment',\n",
       " 'Product Category',\n",
       " 'Product Sub-Category',\n",
       " 'Product Container',\n",
       " 'Country',\n",
       " 'Region',\n",
       " 'State or Province']"
      ]
     },
     "execution_count": 30,
     "metadata": {},
     "output_type": "execute_result"
    }
   ],
   "source": [
    "cat"
   ]
  },
  {
   "cell_type": "code",
   "execution_count": 31,
   "id": "9a73dc8f",
   "metadata": {},
   "outputs": [],
   "source": [
    "# product Catagory\n",
    "\n",
    "#1. Identify Unique Value\n",
    "#2. Display Count Of Orders for Each Class.(Percentages)\n",
    "#3. Visualize.\n"
   ]
  },
  {
   "cell_type": "code",
   "execution_count": 32,
   "id": "9743e4ad",
   "metadata": {},
   "outputs": [
    {
     "data": {
      "text/plain": [
       "array(['Office Supplies', 'Furniture', 'Technology'], dtype=object)"
      ]
     },
     "execution_count": 32,
     "metadata": {},
     "output_type": "execute_result"
    }
   ],
   "source": [
    "df[\"Product Category\"].unique()"
   ]
  },
  {
   "cell_type": "code",
   "execution_count": 33,
   "id": "e8cb61bc",
   "metadata": {},
   "outputs": [
    {
     "data": {
      "text/plain": [
       "Office Supplies    1071\n",
       "Technology          481\n",
       "Furniture           400\n",
       "Name: Product Category, dtype: int64"
      ]
     },
     "execution_count": 33,
     "metadata": {},
     "output_type": "execute_result"
    }
   ],
   "source": [
    "df[\"Product Category\"].value_counts() "
   ]
  },
  {
   "cell_type": "code",
   "execution_count": 34,
   "id": "9dfee29a",
   "metadata": {},
   "outputs": [
    {
     "data": {
      "text/plain": [
       "Office Supplies    54.866803\n",
       "Technology         24.641393\n",
       "Furniture          20.491803\n",
       "Name: Product Category, dtype: float64"
      ]
     },
     "execution_count": 34,
     "metadata": {},
     "output_type": "execute_result"
    }
   ],
   "source": [
    "df[\"Product Category\"].value_counts()/df.shape[0]*100"
   ]
  },
  {
   "cell_type": "code",
   "execution_count": 35,
   "id": "53116c76",
   "metadata": {},
   "outputs": [
    {
     "data": {
      "text/plain": [
       "<AxesSubplot:>"
      ]
     },
     "execution_count": 35,
     "metadata": {},
     "output_type": "execute_result"
    },
    {
     "data": {
      "image/png": "[encoded data removed]",
      "text/plain": [
       "<Figure size 432x288 with 1 Axes>"
      ]
     },
     "metadata": {
      "needs_background": "light"
     },
     "output_type": "display_data"
    }
   ],
   "source": [
    "(df[\"Product Category\"].value_counts()/df.shape[0]*100).plot.bar()"
   ]
  },
  {
   "cell_type": "code",
   "execution_count": 36,
   "id": "7b54fca8",
   "metadata": {},
   "outputs": [
    {
     "name": "stdout",
     "output_type": "stream",
     "text": [
      "Order Priority\n",
      "['High' 'Not Specified' 'Critical' 'Medium' 'Low']\n",
      "Low              398\n",
      "Not Specified    396\n",
      "High             391\n",
      "Critical         391\n",
      "Medium           376\n",
      "Name: Order Priority, dtype: int64\n",
      "=======================================================================================================\n",
      "Discount\n",
      "[0.01 0.02 0.06 0.09 0.08 0.05 0.   0.04 0.07 0.03 0.1  0.17 0.21]\n",
      "0.05    193\n",
      "0.03    192\n",
      "0.02    189\n",
      "0.01    188\n",
      "0.09    182\n",
      "0.04    180\n",
      "0.06    178\n",
      "0.07    177\n",
      "0.00    166\n",
      "0.10    155\n",
      "0.08    150\n",
      "0.17      1\n",
      "0.21      1\n",
      "Name: Discount, dtype: int64\n",
      "=======================================================================================================\n",
      "Ship Mode\n",
      "['Express Air' 'Delivery Truck' 'Regular Air']\n",
      "Regular Air       1437\n",
      "Delivery Truck     275\n",
      "Express Air        240\n",
      "Name: Ship Mode, dtype: int64\n",
      "=======================================================================================================\n",
      "Customer Segment\n",
      "['Corporate' 'Home Office' 'Small Business' 'Consumer']\n",
      "Corporate         684\n",
      "Home Office       470\n",
      "Consumer          410\n",
      "Small Business    388\n",
      "Name: Customer Segment, dtype: int64\n",
      "=======================================================================================================\n",
      "Product Category\n",
      "['Office Supplies' 'Furniture' 'Technology']\n",
      "Office Supplies    1071\n",
      "Technology          481\n",
      "Furniture           400\n",
      "Name: Product Category, dtype: int64\n",
      "=======================================================================================================\n",
      "Product Sub-Category\n",
      "['Pens & Art Supplies' 'Chairs & Chairmats' 'Office Furnishings'\n",
      " 'Rubber Bands' 'Envelopes' 'Telephones and Communication'\n",
      " 'Office Machines' 'Paper' 'Binders and Binder Accessories' 'Labels'\n",
      " 'Storage & Organization' 'Tables' 'Scissors, Rulers and Trimmers'\n",
      " 'Computer Peripherals' 'Bookcases' 'Appliances' 'Copiers and Fax']\n",
      "Paper                             284\n",
      "Binders and Binder Accessories    200\n",
      "Telephones and Communication      194\n",
      "Office Furnishings                185\n",
      "Computer Peripherals              174\n",
      "Pens & Art Supplies               161\n",
      "Storage & Organization            130\n",
      "Appliances                        100\n",
      "Office Machines                    95\n",
      "Chairs & Chairmats                 92\n",
      "Tables                             80\n",
      "Labels                             71\n",
      "Envelopes                          55\n",
      "Bookcases                          43\n",
      "Scissors, Rulers and Trimmers      36\n",
      "Rubber Bands                       34\n",
      "Copiers and Fax                    18\n",
      "Name: Product Sub-Category, dtype: int64\n",
      "=======================================================================================================\n",
      "Product Container\n",
      "['Wrap Bag' 'Jumbo Drum' 'Small Pack' 'Small Box' 'Medium Box' 'Jumbo Box'\n",
      " 'Large Box']\n",
      "Small Box     991\n",
      "Wrap Bag      279\n",
      "Small Pack    219\n",
      "Jumbo Drum    152\n",
      "Jumbo Box     124\n",
      "Large Box     100\n",
      "Medium Box     87\n",
      "Name: Product Container, dtype: int64\n",
      "=======================================================================================================\n",
      "Country\n",
      "['United States']\n",
      "United States    1952\n",
      "Name: Country, dtype: int64\n",
      "=======================================================================================================\n",
      "Region\n",
      "['West' 'East' 'Central' 'South']\n",
      "Central    566\n",
      "East       474\n",
      "West       470\n",
      "South      442\n",
      "Name: Region, dtype: int64\n",
      "=======================================================================================================\n",
      "State or Province\n",
      "['Washington' 'California' 'New Jersey' 'Minnesota' 'New York' 'Montana'\n",
      " 'Oregon' 'Texas' 'Virginia' 'Vermont' 'Ohio' 'Louisiana' 'Illinois'\n",
      " 'Kansas' 'Maine' 'Massachusetts' 'New Hampshire' 'Utah' 'Connecticut'\n",
      " 'Pennsylvania' 'Tennessee' 'Colorado' 'Michigan' 'Oklahoma'\n",
      " 'North Carolina' 'Iowa' 'Florida' 'New Mexico' 'Arizona' 'Georgia'\n",
      " 'Maryland' 'Rhode Island' 'Nebraska' 'Missouri' 'Nevada' 'Kentucky'\n",
      " 'West Virginia' 'Mississippi' 'Indiana' 'South Carolina' 'Arkansas'\n",
      " 'District of Columbia' 'Delaware' 'Alabama' 'Idaho' 'Wisconsin'\n",
      " 'South Dakota' 'Wyoming' 'North Dakota']\n",
      "California              214\n",
      "New York                129\n",
      "Texas                   124\n",
      "Florida                 123\n",
      "Illinois                 88\n",
      "Ohio                     81\n",
      "Michigan                 66\n",
      "Washington               61\n",
      "Indiana                  53\n",
      "Pennsylvania             52\n",
      "Minnesota                51\n",
      "Virginia                 51\n",
      "North Carolina           49\n",
      "Massachusetts            46\n",
      "Colorado                 44\n",
      "Georgia                  44\n",
      "Tennessee                41\n",
      "Wisconsin                39\n",
      "Utah                     38\n",
      "Iowa                     38\n",
      "Maryland                 34\n",
      "New Jersey               32\n",
      "Arizona                  31\n",
      "South Carolina           30\n",
      "Oregon                   28\n",
      "Missouri                 27\n",
      "Maine                    27\n",
      "Kansas                   27\n",
      "Alabama                  22\n",
      "Kentucky                 22\n",
      "Arkansas                 22\n",
      "Louisiana                20\n",
      "Connecticut              20\n",
      "Idaho                    20\n",
      "Nebraska                 18\n",
      "Oklahoma                 18\n",
      "Mississippi              18\n",
      "District of Columbia     15\n",
      "Nevada                   14\n",
      "Vermont                  11\n",
      "New Hampshire            11\n",
      "North Dakota             10\n",
      "New Mexico               10\n",
      "West Virginia             9\n",
      "Montana                   7\n",
      "South Dakota              7\n",
      "Rhode Island              5\n",
      "Wyoming                   3\n",
      "Delaware                  2\n",
      "Name: State or Province, dtype: int64\n",
      "=======================================================================================================\n"
     ]
    }
   ],
   "source": [
    "for i in cat:\n",
    "    print(i)\n",
    "    print(df[i].unique())\n",
    "    print(df[i].value_counts())\n",
    "    print(\"=======================================================================================================\")\n",
    "    "
   ]
  },
  {
   "cell_type": "markdown",
   "id": "bbd2a699",
   "metadata": {},
   "source": [
    "# Bivariate Analysis"
   ]
  },
  {
   "cell_type": "code",
   "execution_count": 37,
   "id": "32e68ac9",
   "metadata": {},
   "outputs": [
    {
     "data": {
      "text/plain": [
       "['Order Priority',\n",
       " 'Discount',\n",
       " 'Ship Mode',\n",
       " 'Customer Segment',\n",
       " 'Product Category',\n",
       " 'Product Sub-Category',\n",
       " 'Product Container',\n",
       " 'Country',\n",
       " 'Region',\n",
       " 'State or Province']"
      ]
     },
     "execution_count": 37,
     "metadata": {},
     "output_type": "execute_result"
    }
   ],
   "source": [
    "cat"
   ]
  },
  {
   "cell_type": "code",
   "execution_count": 38,
   "id": "92eaa70e",
   "metadata": {},
   "outputs": [
    {
     "data": {
      "text/html": [
       "<div>\n",
       "<style scoped>\n",
       "    .dataframe tbody tr th:only-of-type {\n",
       "        vertical-align: middle;\n",
       "    }\n",
       "\n",
       "    .dataframe tbody tr th {\n",
       "        vertical-align: top;\n",
       "    }\n",
       "\n",
       "    .dataframe thead th {\n",
       "        text-align: right;\n",
       "    }\n",
       "</style>\n",
       "<table border=\"1\" class=\"dataframe\">\n",
       "  <thead>\n",
       "    <tr style=\"text-align: right;\">\n",
       "      <th>Product Category</th>\n",
       "      <th>Furniture</th>\n",
       "      <th>Office Supplies</th>\n",
       "      <th>Technology</th>\n",
       "    </tr>\n",
       "    <tr>\n",
       "      <th>Region</th>\n",
       "      <th></th>\n",
       "      <th></th>\n",
       "      <th></th>\n",
       "    </tr>\n",
       "  </thead>\n",
       "  <tbody>\n",
       "    <tr>\n",
       "      <th>Central</th>\n",
       "      <td>120</td>\n",
       "      <td>315</td>\n",
       "      <td>131</td>\n",
       "    </tr>\n",
       "    <tr>\n",
       "      <th>East</th>\n",
       "      <td>99</td>\n",
       "      <td>265</td>\n",
       "      <td>110</td>\n",
       "    </tr>\n",
       "    <tr>\n",
       "      <th>South</th>\n",
       "      <td>93</td>\n",
       "      <td>238</td>\n",
       "      <td>111</td>\n",
       "    </tr>\n",
       "    <tr>\n",
       "      <th>West</th>\n",
       "      <td>88</td>\n",
       "      <td>253</td>\n",
       "      <td>129</td>\n",
       "    </tr>\n",
       "  </tbody>\n",
       "</table>\n",
       "</div>"
      ],
      "text/plain": [
       "Product Category  Furniture  Office Supplies  Technology\n",
       "Region                                                  \n",
       "Central                 120              315         131\n",
       "East                     99              265         110\n",
       "South                    93              238         111\n",
       "West                     88              253         129"
      ]
     },
     "execution_count": 38,
     "metadata": {},
     "output_type": "execute_result"
    }
   ],
   "source": [
    "# Display Region wise count of product category.\n",
    "df1=df.groupby('Region')['Product Category'].value_counts().unstack()\n",
    "df1"
   ]
  },
  {
   "cell_type": "code",
   "execution_count": 39,
   "id": "69f03020",
   "metadata": {},
   "outputs": [
    {
     "data": {
      "text/plain": [
       "<AxesSubplot:xlabel='Region'>"
      ]
     },
     "execution_count": 39,
     "metadata": {},
     "output_type": "execute_result"
    },
    {
     "data": {
      "image/png": "[encoded data removed]",
      "text/plain": [
       "<Figure size 432x288 with 1 Axes>"
      ]
     },
     "metadata": {
      "needs_background": "light"
     },
     "output_type": "display_data"
    }
   ],
   "source": [
    "df1.plot.bar()"
   ]
  },
  {
   "cell_type": "code",
   "execution_count": 40,
   "id": "60de6b37",
   "metadata": {},
   "outputs": [
    {
     "data": {
      "text/plain": [
       "['Order Priority',\n",
       " 'Discount',\n",
       " 'Ship Mode',\n",
       " 'Customer Segment',\n",
       " 'Product Category',\n",
       " 'Product Sub-Category',\n",
       " 'Product Container',\n",
       " 'Country',\n",
       " 'Region',\n",
       " 'State or Province']"
      ]
     },
     "execution_count": 40,
     "metadata": {},
     "output_type": "execute_result"
    }
   ],
   "source": [
    "cat#practice"
   ]
  },
  {
   "cell_type": "code",
   "execution_count": 41,
   "id": "90007a7b",
   "metadata": {},
   "outputs": [
    {
     "data": {
      "text/plain": [
       "['Row ID',\n",
       " 'Unit Price',\n",
       " 'Shipping Cost',\n",
       " 'Customer ID',\n",
       " 'Customer Name',\n",
       " 'Product Name',\n",
       " 'Product Base Margin',\n",
       " 'City',\n",
       " 'Postal Code',\n",
       " 'Order Date',\n",
       " 'Ship Date',\n",
       " 'Profit',\n",
       " 'Quantity ordered new',\n",
       " 'Sales',\n",
       " 'Order ID']"
      ]
     },
     "execution_count": 41,
     "metadata": {},
     "output_type": "execute_result"
    }
   ],
   "source": [
    "cont"
   ]
  },
  {
   "cell_type": "code",
   "execution_count": 42,
   "id": "bbc22235",
   "metadata": {},
   "outputs": [
    {
     "data": {
      "text/plain": [
       "['Order Priority',\n",
       " 'Discount',\n",
       " 'Ship Mode',\n",
       " 'Customer Segment',\n",
       " 'Product Category',\n",
       " 'Product Sub-Category',\n",
       " 'Product Container',\n",
       " 'Country',\n",
       " 'Region',\n",
       " 'State or Province']"
      ]
     },
     "execution_count": 42,
     "metadata": {},
     "output_type": "execute_result"
    }
   ],
   "source": [
    "# Display total Sales \n",
    "# Display Total Profit\n",
    "# Display % Profit.\n",
    "cat"
   ]
  },
  {
   "cell_type": "code",
   "execution_count": 43,
   "id": "bc4dc617",
   "metadata": {},
   "outputs": [
    {
     "name": "stdout",
     "output_type": "stream",
     "text": [
      "Total Sales :  1924337.88\n",
      "Total Profit :  224077.61\n",
      "Percentage Profit :  11.64\n"
     ]
    }
   ],
   "source": [
    "print(\"Total Sales : \",df['Sales'].sum())\n",
    "print(\"Total Profit : \",df['Profit'].sum().round(2))\n",
    "print(\"Percentage Profit : \",np.round(df['Profit'].sum().round(2)/df['Sales'].sum()*100,2))"
   ]
  },
  {
   "cell_type": "code",
   "execution_count": 44,
   "id": "617213f0",
   "metadata": {},
   "outputs": [],
   "source": [
    "# Display Region wise A. sales , % sales  B. Profit, % profit Contribution  C. % profit"
   ]
  },
  {
   "cell_type": "code",
   "execution_count": 45,
   "id": "a4164e36",
   "metadata": {},
   "outputs": [
    {
     "data": {
      "text/plain": [
       "Region\n",
       "Central    448284.70\n",
       "East       592171.49\n",
       "South      357105.12\n",
       "West       526776.57\n",
       "Name: Sales, dtype: float64"
      ]
     },
     "execution_count": 45,
     "metadata": {},
     "output_type": "execute_result"
    }
   ],
   "source": [
    "# 1. Display Region wise A. sales , % sales\n",
    "df2=df.groupby('Region')['Sales'].sum()\n",
    "df2"
   ]
  },
  {
   "cell_type": "code",
   "execution_count": 46,
   "id": "40734941",
   "metadata": {},
   "outputs": [
    {
     "data": {
      "text/plain": [
       "Region\n",
       "Central    23.30\n",
       "East       30.77\n",
       "South      18.56\n",
       "West       27.37\n",
       "Name: Sales, dtype: float64"
      ]
     },
     "execution_count": 46,
     "metadata": {},
     "output_type": "execute_result"
    }
   ],
   "source": [
    "# 2. % sales\n",
    "np.round(df.groupby('Region')['Sales'].sum()/df['Sales'].sum()*100,2)"
   ]
  },
  {
   "cell_type": "code",
   "execution_count": 47,
   "id": "02f81093",
   "metadata": {},
   "outputs": [
    {
     "data": {
      "text/plain": [
       "Region\n",
       "Central    77365.472669\n",
       "East       85291.403446\n",
       "South     -14424.054379\n",
       "West       75844.790102\n",
       "Name: Profit, dtype: float64"
      ]
     },
     "execution_count": 47,
     "metadata": {},
     "output_type": "execute_result"
    }
   ],
   "source": [
    "#B. Profit, % profit Contribution\n",
    "df3=df.groupby('Region')['Profit'].sum()\n",
    "df3"
   ]
  },
  {
   "cell_type": "code",
   "execution_count": 48,
   "id": "1d56aace",
   "metadata": {},
   "outputs": [
    {
     "data": {
      "text/plain": [
       "Region\n",
       "Central    34.53\n",
       "East       38.06\n",
       "South      -6.44\n",
       "West       33.85\n",
       "Name: Profit, dtype: float64"
      ]
     },
     "execution_count": 48,
     "metadata": {},
     "output_type": "execute_result"
    }
   ],
   "source": [
    "# profit Contribution\n",
    "np.round(df.groupby('Region')['Profit'].sum()/df['Profit'].sum()*100,2)"
   ]
  },
  {
   "cell_type": "code",
   "execution_count": 49,
   "id": "282ca033",
   "metadata": {},
   "outputs": [],
   "source": [
    "# Region Wise Profit Margine"
   ]
  },
  {
   "cell_type": "code",
   "execution_count": 50,
   "id": "96f3a5db",
   "metadata": {},
   "outputs": [
    {
     "data": {
      "text/plain": [
       "Region\n",
       "Central    17.26\n",
       "East       14.40\n",
       "South      -4.04\n",
       "West       14.40\n",
       "dtype: float64"
      ]
     },
     "execution_count": 50,
     "metadata": {},
     "output_type": "execute_result"
    }
   ],
   "source": [
    "round(df.groupby('Region')['Profit'].sum()/df.groupby('Region')['Sales'].sum()*100,2)"
   ]
  },
  {
   "cell_type": "code",
   "execution_count": null,
   "id": "b361cf04",
   "metadata": {},
   "outputs": [],
   "source": [
    "# C. % profit\n",
    "print(\"Percentage Profit : \",np.round(df['Profit'].sum()/df['Sales'].sum()*100,2),\"%\")"
   ]
  },
  {
   "cell_type": "code",
   "execution_count": 51,
   "id": "049ad3f2",
   "metadata": {},
   "outputs": [
    {
     "data": {
      "text/plain": [
       "State or Province\n",
       "California    288310.61\n",
       "New York      223930.48\n",
       "Illinois       98971.25\n",
       "Texas          93082.73\n",
       "Florida        87651.11\n",
       "Name: Sales, dtype: float64"
      ]
     },
     "execution_count": 51,
     "metadata": {},
     "output_type": "execute_result"
    }
   ],
   "source": [
    "a=(df.groupby('State or Province')['Sales'].sum().nlargest(5))\n",
    "a"
   ]
  },
  {
   "cell_type": "code",
   "execution_count": 52,
   "id": "989f4ea9",
   "metadata": {},
   "outputs": [
    {
     "name": "stdout",
     "output_type": "stream",
     "text": [
      "State or Province\n",
      "California    14.98\n",
      "New York      11.64\n",
      "Illinois       5.14\n",
      "Texas          4.84\n",
      "Florida        4.55\n",
      "Name: Sales, dtype: float64\n"
     ]
    },
    {
     "data": {
      "text/plain": [
       "<AxesSubplot:xlabel='State or Province'>"
      ]
     },
     "execution_count": 52,
     "metadata": {},
     "output_type": "execute_result"
    },
    {
     "data": {
      "image/png": "[encoded data removed]",
      "text/plain": [
       "<Figure size 432x288 with 1 Axes>"
      ]
     },
     "metadata": {
      "needs_background": "light"
     },
     "output_type": "display_data"
    }
   ],
   "source": [
    "# Display Top Five States , % Contribution in sales. Visualize.\n",
    "print(round((df.groupby('State or Province')['Sales'].sum().nlargest(5))/df['Sales'].sum()*100,2))\n",
    "round((df.groupby('State or Province')['Sales'].sum().nlargest(5))/df['Sales'].sum()*100,2).plot.bar()"
   ]
  },
  {
   "cell_type": "code",
   "execution_count": 53,
   "id": "af03cee6",
   "metadata": {},
   "outputs": [
    {
     "name": "stdout",
     "output_type": "stream",
     "text": [
      "State or Province\n",
      "California    16.70\n",
      "Texas         12.53\n",
      "New York      12.32\n",
      "Name: Profit, dtype: float64\n"
     ]
    },
    {
     "data": {
      "text/plain": [
       "<AxesSubplot:xlabel='State or Province'>"
      ]
     },
     "execution_count": 53,
     "metadata": {},
     "output_type": "execute_result"
    },
    {
     "data": {
      "image/png": "[encoded data removed]",
      "text/plain": [
       "<Figure size 432x288 with 1 Axes>"
      ]
     },
     "metadata": {
      "needs_background": "light"
     },
     "output_type": "display_data"
    }
   ],
   "source": [
    "# Display Top 3 States , % Contribution in Profit. visualize\n",
    "print(round((df.groupby('State or Province')['Profit'].sum().nlargest(3))/df['Profit'].sum()*100,2))\n",
    "round((df.groupby('State or Province')['Profit'].sum().nlargest(3))/df['Profit'].sum()*100,2).plot.bar()"
   ]
  }
 ],
 "metadata": {
  "kernelspec": {
   "display_name": "Python 3 (ipykernel)",
   "language": "python",
   "name": "python3"
  },
  "language_info": {
   "codemirror_mode": {
    "name": "ipython",
    "version": 3
   },
   "file_extension": ".py",
   "mimetype": "text/x-python",
   "name": "python",
   "nbconvert_exporter": "python",
   "pygments_lexer": "ipython3",
   "version": "3.9.7"
  }
 },
 "nbformat": 4,
 "nbformat_minor": 5
}
